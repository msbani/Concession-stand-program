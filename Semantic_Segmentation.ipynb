{
  "metadata": {
    "kernelspec": {
      "language": "python",
      "display_name": "Python 3",
      "name": "python3"
    },
    "language_info": {
      "name": "python",
      "version": "3.10.12",
      "mimetype": "text/x-python",
      "codemirror_mode": {
        "name": "ipython",
        "version": 3
      },
      "pygments_lexer": "ipython3",
      "nbconvert_exporter": "python",
      "file_extension": ".py"
    },
    "kaggle": {
      "accelerator": "none",
      "dataSources": [
        {
          "sourceId": 90982,
          "databundleVersionId": 10679769,
          "sourceType": "competition"
        }
      ],
      "dockerImageVersionId": 30822,
      "isInternetEnabled": true,
      "language": "python",
      "sourceType": "notebook",
      "isGpuEnabled": false
    },
    "colab": {
      "provenance": [],
      "include_colab_link": true
    }
  },
  "nbformat_minor": 0,
  "nbformat": 4,
  "cells": [
    {
      "cell_type": "markdown",
      "metadata": {
        "id": "view-in-github",
        "colab_type": "text"
      },
      "source": [
        "<a href=\"https://colab.research.google.com/github/msbani/Concession-stand-program/blob/main/Semantic_Segmentation.ipynb\" target=\"_parent\"><img src=\"https://colab.research.google.com/assets/colab-badge.svg\" alt=\"Open In Colab\"/></a>"
      ]
    },
    {
      "cell_type": "markdown",
      "source": [
        "# <font style=\"color:blue\">Project 3: Kaggle Competition - Semantic Segmentation</font>\n",
        "\n",
        "#### Maximum Points: 100\n",
        "\n",
        "<div>\n",
        "    <table>\n",
        "        <tr><td><h3>Sr. no.</h3></td> <td><h3>Section</h3></td> <td><h3>Points</h3></td> </tr>\n",
        "        <tr><td><h3>1</h3></td> <td><h3>1.1. Dataset Class</h3></td> <td><h3>7</h3></td> </tr>\n",
        "        <tr><td><h3>2</h3></td> <td><h3>1.2. Visualize dataset</h3></td> <td><h3>3</h3></td> </tr>\n",
        "        <tr><td><h3>3</h3></td> <td><h3>2. Evaluation Metrics</h3></td> <td><h3>10</h3></td> </tr>\n",
        "        <tr><td><h3>4</h3></td> <td><h3>3. Model</h3></td> <td><h3>10</h3></td> </tr>\n",
        "        <tr><td><h3>5</h3></td> <td><h3>4.1. Train</h3></td> <td><h3>7</h3></td> </tr>\n",
        "        <tr><td><h3>6</h3></td> <td><h3>4.2. Inference</h3></td> <td><h3>3</h3></td> </tr>\n",
        "        <tr><td><h3>7</h3></td> <td><h3>5. Prepare Submission CSV</h3></td><td><h3>10</h3></td> </tr>\n",
        "        <tr><td><h3>8</h3></td> <td><h3>6. Kaggle Profile Link</h3></td> <td><h3>50</h3></td> </tr>\n",
        "    </table>\n",
        "</div>\n",
        "\n",
        "---\n",
        "\n",
        "**In this project, you have participated in the Kaggle competition, and also submit the notebook and othe code in the course lab.**\n",
        "\n",
        "**This Kaggle competition is a semantic segmentation challenge.**\n",
        "\n",
        "<h2>Dataset Description </h2>\n",
        "<p>The dataset consists of 3,269 images in 12 classes (including background). All images were taken from drones in a variety of scales. Samples are shown below:\n",
        "<img src=\"https://www.dropbox.com/scl/fi/pswwraz1cc9srd9d4hxm3/data_montage.jpg?rlkey=074v9mc32et70ijl0dz3y0rvs&dl=1\" width=\"800\" height=\"800\">\n",
        "<p>The data was splitted into public train set and private test set which is used for evaluation of submissions. You can split public subset into train and validation sets yourself.\n",
        "Images are named with a unique <code>ImageId</code>. </p>\n",
        "<p> You should segment and classify the images in the test set.</p>\n",
        "<p>The dataset consists of landscape images taken from drones in a variety of scales.</p>\n",
        "\n",
        "**The notebook is divided into sections. You have to write code, as mention in the section.  For other helper functions, you can write `.py` files and import them in the notebook. You have to submit the notebook along with `.py` files. Your submitted code must be runnable without any bug.**"
      ],
      "metadata": {
        "_uuid": "8f2839f25d086af736a60e9eeb907d3b93b6e0e5",
        "_cell_guid": "b1076dfc-b9ad-4769-8c92-a6c4dae69d19",
        "id": "U39NPfuj2Egy"
      }
    },
    {
      "cell_type": "markdown",
      "source": [
        "# <font style=\"color:green\">1. Data Exploration</font>\n",
        "\n",
        "In this section, you have to write your custom dataset class and visualize a few images (max five images) and its mask."
      ],
      "metadata": {
        "id": "72QUJogn2Eg0"
      }
    },
    {
      "cell_type": "markdown",
      "source": [
        "## <font style=\"color:green\">1.1. Dataset Class [7 Points]</font>\n",
        "\n",
        "**In this sub-section, write your custom dataset class.**\n",
        "\n",
        "\n",
        "**Note that there are not separate validation data, so you will have to create your validation set by dividing train data into train and validation data. Usually, in practice, we do `80:20` ratio for train and validation, respectively.**\n",
        "\n",
        "**for example:**\n",
        "\n",
        "```\n",
        "class SemSegDataset(Dataset):\n",
        "    \"\"\" Generic Dataset class for semantic segmentation datasets.\n",
        "\n",
        "        Arguments:\n",
        "            data_path (string): Path to the dataset folder.\n",
        "            images_folder (string): Name of the folder containing the images (related to the data_path).\n",
        "            masks_folder (string): Name of the folder containing the masks (related to the data_path).\n",
        "            csv_path (string): train or test csv file name\n",
        "            image_ids (list): List of images.\n",
        "            train_val_test (string): 'train', 'val' or 'test'\n",
        "            transforms (callable, optional): A function/transform that inputs a sample\n",
        "                and returns its transformed version.\n",
        "            class_names (list, optional): Names of the classes.\n",
        "            \n",
        "\n",
        "        Dataset folder structure:\n",
        "            Folder containing the dataset should look like:\n",
        "            - data_path\n",
        "            -- images_folder\n",
        "            -- masks_folder\n",
        "\n",
        "            Names of images in the images_folder and masks_folder should be the same for same samples.\n",
        "    \"\"\"\n",
        "```"
      ],
      "metadata": {
        "id": "pjuC_0R-2Eg1"
      }
    },
    {
      "cell_type": "code",
      "source": [],
      "metadata": {
        "trusted": true,
        "id": "v4cK-W9h2Eg1"
      },
      "outputs": [],
      "execution_count": null
    },
    {
      "cell_type": "code",
      "source": [],
      "metadata": {
        "trusted": true,
        "id": "6zYp8KHp2Eg1"
      },
      "outputs": [],
      "execution_count": null
    },
    {
      "cell_type": "code",
      "source": [],
      "metadata": {
        "trusted": true,
        "id": "ylx0QN_P2Eg2"
      },
      "outputs": [],
      "execution_count": null
    },
    {
      "cell_type": "markdown",
      "source": [
        "## <font style=\"color:green\">1.2. Visualize dataset [3 Points]</font>\n",
        "\n",
        "**In this sub-section,  you have to plot a few images and its mask.**\n",
        "\n",
        "**for example:**\n",
        "\n",
        "---\n",
        "\n",
        "<img src=\"https://www.learnopencv.com/wp-content/uploads/2020/04/c3-w12-data-sample.png\">\n",
        "\n",
        "---"
      ],
      "metadata": {
        "id": "Df6T1Aan2Eg2"
      }
    },
    {
      "cell_type": "code",
      "source": [],
      "metadata": {
        "trusted": true,
        "id": "nmMOKF2J2Eg2"
      },
      "outputs": [],
      "execution_count": null
    },
    {
      "cell_type": "code",
      "source": [],
      "metadata": {
        "trusted": true,
        "id": "TLUeUAVu2Eg2"
      },
      "outputs": [],
      "execution_count": null
    },
    {
      "cell_type": "code",
      "source": [],
      "metadata": {
        "trusted": true,
        "id": "wZFmpuGD2Eg2"
      },
      "outputs": [],
      "execution_count": null
    },
    {
      "cell_type": "markdown",
      "source": [
        "# <font style=\"color:green\">2. Evaluation Metrics [10 Points]</font>\n",
        "\n",
        "<p>This competition is evaluated on the mean <a href='https://en.wikipedia.org/wiki/Sørensen–Dice_coefficient'>Dice coefficient</a\n",
        ">. The Dice coefficient can be used to compare the pixel-wise agreement between a predicted segmentation and its corresponding ground truth. The formula is given by: </p>\n",
        "\n",
        "<p>$$DSC =  \\frac{2 |X \\cap Y|}{|X|+ |Y|}$$\n",
        "$$ \\small \\mathrm{where}\\ X = Predicted\\ Set\\ of\\ Pixels,\\ \\ Y = Ground\\ Truth $$ </p>\n",
        "<p>The Dice coefficient is defined to be 1 when both X and Y are empty.</p>\n",
        "\n",
        "**In this section, you have to implement the dice coefficient evaluation metric.**"
      ],
      "metadata": {
        "id": "BZkzRf6W2Eg2"
      }
    },
    {
      "cell_type": "code",
      "source": [],
      "metadata": {
        "trusted": true,
        "id": "CVDS3-mX2Eg3"
      },
      "outputs": [],
      "execution_count": null
    },
    {
      "cell_type": "code",
      "source": [],
      "metadata": {
        "trusted": true,
        "id": "BNjWO5Ty2Eg3"
      },
      "outputs": [],
      "execution_count": null
    },
    {
      "cell_type": "code",
      "source": [],
      "metadata": {
        "trusted": true,
        "id": "ngo0NyFv2Eg3"
      },
      "outputs": [],
      "execution_count": null
    },
    {
      "cell_type": "markdown",
      "source": [
        "# <font style=\"color:green\">3. Model [10 Points]</font>\n",
        "\n",
        "**In this section, you have to define your model.**"
      ],
      "metadata": {
        "id": "XQZkY0ex2Eg3"
      }
    },
    {
      "cell_type": "code",
      "source": [],
      "metadata": {
        "trusted": true,
        "id": "HIBlJYD52Eg3"
      },
      "outputs": [],
      "execution_count": null
    },
    {
      "cell_type": "code",
      "source": [],
      "metadata": {
        "trusted": true,
        "id": "csVIcBNN2Eg3"
      },
      "outputs": [],
      "execution_count": null
    },
    {
      "cell_type": "code",
      "source": [],
      "metadata": {
        "trusted": true,
        "id": "sFHMiKUv2Eg3"
      },
      "outputs": [],
      "execution_count": null
    },
    {
      "cell_type": "markdown",
      "source": [
        "# <font style=\"color:green\">4. Train & Inference</font>\n",
        "\n",
        "- **In this section, you have to train the model and infer on sample data.**\n",
        "\n",
        "\n",
        "- **You can write your trainer class in this section.**\n",
        "\n",
        "\n",
        "- **If you are using any loss function other than PyTorch standard loss function, you have to define in this section.**\n",
        "\n",
        "\n",
        "- **This section should also have optimizer and LR-schedular (if using) details.**\n",
        "\n"
      ],
      "metadata": {
        "id": "9NPGFeXY2Eg3"
      }
    },
    {
      "cell_type": "markdown",
      "source": [
        "## <font style=\"color:green\">4.1. Train [7 Points]</font>\n",
        "\n",
        "**Write your training code in this sub-section.**\n",
        "\n",
        "\n",
        "**This section must contain training plots (use matplotlib or share tensorboard.dev scalars logs).**\n",
        "\n",
        "**You must have to plot the following:**\n",
        "- **train loss**\n",
        "\n",
        "\n",
        "- **validation loss**\n",
        "\n",
        "\n",
        "- **IoU for all twelve classes (0-11) and the mean IoU of all classes on validatin data.**\n",
        "\n",
        "**an example of matplotlib plot:**\n",
        "\n",
        "---\n",
        "\n",
        "<img src='https://www.learnopencv.com/wp-content/uploads/2020/04/c3-w12-train-loss.png'>\n",
        "\n",
        "---\n",
        "\n",
        "<img src='https://www.learnopencv.com/wp-content/uploads/2020/04/c3-w12-val-loss.png'>\n",
        "\n",
        "---\n",
        "\n",
        "<img src='https://www.learnopencv.com/wp-content/uploads/2020/04/c3-w12-mean_iou.png'>\n",
        "\n",
        "---\n",
        "\n",
        "<img src='https://www.learnopencv.com/wp-content/uploads/2020/04/c3-w12-iou-0.png'>\n",
        "\n",
        "---\n",
        "\n",
        "<center>*</center>\n",
        "<center>*</center>\n",
        "<center>*</center>\n",
        "\n",
        "---\n",
        "\n",
        "<img src='https://www.learnopencv.com/wp-content/uploads/2020/04/c3-w12-iou-11.png'>\n",
        "\n",
        "---\n"
      ],
      "metadata": {
        "id": "K7sgGy8C2Eg3"
      }
    },
    {
      "cell_type": "code",
      "source": [],
      "metadata": {
        "trusted": true,
        "id": "g9fAWPdK2Eg4"
      },
      "outputs": [],
      "execution_count": null
    },
    {
      "cell_type": "code",
      "source": [],
      "metadata": {
        "trusted": true,
        "id": "_yppxOBx2Eg4"
      },
      "outputs": [],
      "execution_count": null
    },
    {
      "cell_type": "code",
      "source": [],
      "metadata": {
        "trusted": true,
        "id": "G_i1tZxL2Eg4"
      },
      "outputs": [],
      "execution_count": null
    },
    {
      "cell_type": "markdown",
      "source": [
        "## <font style=\"color:green\">4.2. Inference [3 Points]</font>\n",
        "\n",
        "**Plot some sample inference in this sub-section.**\n",
        "\n",
        "**for example:**\n",
        "\n",
        "---\n",
        "\n",
        "<img src='https://www.learnopencv.com/wp-content/uploads/2020/04/c3-w12-sample-predtiction.png'>\n",
        "\n",
        "---\n",
        "\n"
      ],
      "metadata": {
        "id": "zCkMzfuK2Eg4"
      }
    },
    {
      "cell_type": "code",
      "source": [],
      "metadata": {
        "trusted": true,
        "id": "frAR42px2Eg4"
      },
      "outputs": [],
      "execution_count": null
    },
    {
      "cell_type": "code",
      "source": [],
      "metadata": {
        "trusted": true,
        "id": "glZbN4B12Eg4"
      },
      "outputs": [],
      "execution_count": null
    },
    {
      "cell_type": "code",
      "source": [],
      "metadata": {
        "trusted": true,
        "id": "YJPlUwiV2Eg4"
      },
      "outputs": [],
      "execution_count": null
    },
    {
      "cell_type": "markdown",
      "source": [
        "# <font style=\"color:green\">5. Prepare Submission CSV [10 Points]</font>\n",
        "\n",
        "**Write your code to prepare the submission CSV file.**\n",
        "\n",
        "\n",
        "**Note that in the submission file, you have to write Encoded Pixels.**\n",
        "\n",
        "[Here is a blog to understand what is Encoded Pixels.](https://medium.com/analytics-vidhya/generating-masks-from-encoded-pixels-semantic-segmentation-18635e834ad0)"
      ],
      "metadata": {
        "id": "zvcTpNL_2Eg4"
      }
    },
    {
      "cell_type": "code",
      "source": [],
      "metadata": {
        "trusted": true,
        "id": "UrDMyXjz2Eg4"
      },
      "outputs": [],
      "execution_count": null
    },
    {
      "cell_type": "code",
      "source": [],
      "metadata": {
        "trusted": true,
        "id": "M94OurFf2Eg5"
      },
      "outputs": [],
      "execution_count": null
    },
    {
      "cell_type": "code",
      "source": [],
      "metadata": {
        "trusted": true,
        "id": "X4acB7UT2Eg5"
      },
      "outputs": [],
      "execution_count": null
    },
    {
      "cell_type": "markdown",
      "source": [
        "# <font style=\"color:green\">6. Kaggle Profile Link [50 Points]</font>\n",
        "\n",
        "Share your Kaggle profile link here with us so that we can give points for the competition score.\n",
        "\n",
        "You should have a minimum dice score of `0.60` on the test data to get all points. If the dice score is less than `0.55`, you will not get any points for the section.\n",
        "\n",
        "**You must have to submit `submission.csv` (prediction for images in `test.csv`) in `Submit Predictions` tab in Kaggle to get any evaluation in this section.**"
      ],
      "metadata": {
        "id": "M07ZQJ3a2Eg5"
      }
    },
    {
      "cell_type": "code",
      "source": [],
      "metadata": {
        "trusted": true,
        "id": "oKmTRXnT2Eg5"
      },
      "outputs": [],
      "execution_count": null
    }
  ]
}